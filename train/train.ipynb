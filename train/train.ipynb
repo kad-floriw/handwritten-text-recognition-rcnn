{
 "cells": [
  {
   "cell_type": "code",
   "execution_count": null,
   "metadata": {},
   "outputs": [],
   "source": [
    "!pip install -q PyDrive\n",
    "\n",
    "%cd\n",
    "\n",
    "!rm -r ~/htr-ctc-cnn\n",
    "!git clone --quiet https://github.com/WimFlorijn/htr-ctc-cnn.git\n",
    "\n",
    "%tensorflow_version 1.x\n",
    "%cd ~/htr-ctc-cnn"
   ]
  },
  {
   "cell_type": "code",
   "execution_count": null,
   "metadata": {},
   "outputs": [],
   "source": [
    "import os\n",
    "import cv2\n",
    "import logging\n",
    "import zipfile\n",
    "import numpy as np\n",
    "import tensorflow as tf\n",
    "\n",
    "from google.colab import drive\n",
    "from src.main import train_model\n",
    "from src.Model import Model, DecoderType\n",
    "from src.DataLoader import DataLoader, Batch\n",
    "from src.SamplePreprocessor import preprocess\n",
    "\n",
    "\n",
    "logging.basicConfig(level=logging.INFO)\n",
    "\n",
    "print(tf.__version__)"
   ]
  },
  {
   "cell_type": "code",
   "execution_count": null,
   "metadata": {},
   "outputs": [],
   "source": [
    "drive.mount('/content/gdrive')"
   ]
  },
  {
   "cell_type": "code",
   "execution_count": null,
   "metadata": {},
   "outputs": [],
   "source": [
    "dataset_dir = '/tmp/traindata'\n",
    "\n",
    "zip_ref = zipfile.ZipFile('/content/gdrive/My Drive/htr_train_data.zip', 'r')\n",
    "zip_ref.extractall(dataset_dir)\n",
    "zip_ref.close()"
   ]
  },
  {
   "cell_type": "code",
   "execution_count": null,
   "metadata": {},
   "outputs": [],
   "source": [
    "vocabulary = '.0123456789'\n",
    "output_model_dir = '/content/gdrive/My Drive/htr_snapshot/'\n",
    "\n",
    "graph = tf.Graph()\n",
    "with graph.as_default():\n",
    "    output_model = Model(vocabulary, graph, DecoderType.BestPath, model_dir=output_model_dir)\n",
    "    train_model(output_model, dataset_dir)"
   ]
  }
 ],
 "metadata": {
  "accelerator": "GPU",
  "colab": {
   "collapsed_sections": [],
   "name": "htr.ipynb",
   "provenance": []
  },
  "kernelspec": {
   "display_name": "Python 3",
   "language": "python",
   "name": "python3"
  },
  "language_info": {
   "codemirror_mode": {
    "name": "ipython",
    "version": 3
   },
   "file_extension": ".py",
   "mimetype": "text/x-python",
   "name": "python",
   "nbconvert_exporter": "python",
   "pygments_lexer": "ipython3",
   "version": "3.6.9"
  }
 },
 "nbformat": 4,
 "nbformat_minor": 1
}
